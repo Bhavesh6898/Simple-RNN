{
  "cells": [
    {
      "cell_type": "code",
      "execution_count": 1,
      "metadata": {
        "id": "7esp8ph2sVJz"
      },
      "outputs": [],
      "source": [
        "import numpy as np\n",
        "import tensorflow as tf\n",
        "from tensorflow.keras.datasets import imdb\n",
        "from tensorflow.keras.preprocessing import sequence\n",
        "from tensorflow.keras.models import load_model"
      ]
    },
    {
      "cell_type": "code",
      "execution_count": 2,
      "metadata": {
        "colab": {
          "base_uri": "https://localhost:8080/"
        },
        "id": "G7CzlsKZsdVh",
        "outputId": "c57d63b2-7971-4b05-a2dd-1032a9c7e44e"
      },
      "outputs": [],
      "source": [
        "# Load the IMDB dataset word index\n",
        "word_index = imdb.get_word_index()\n",
        "reverse_word_index = {value: key for key, value in word_index.items()}"
      ]
    },
    {
      "cell_type": "code",
      "execution_count": 3,
      "metadata": {
        "colab": {
          "base_uri": "https://localhost:8080/",
          "height": 276
        },
        "id": "iZNAS48TsfVA",
        "outputId": "d1864721-dfcf-4305-9509-273d8c342731"
      },
      "outputs": [
        {
          "data": {
            "text/html": [
              "<pre style=\"white-space:pre;overflow-x:auto;line-height:normal;font-family:Menlo,'DejaVu Sans Mono',consolas,'Courier New',monospace\"><span style=\"font-weight: bold\">Model: \"sequential\"</span>\n",
              "</pre>\n"
            ],
            "text/plain": [
              "\u001b[1mModel: \"sequential\"\u001b[0m\n"
            ]
          },
          "metadata": {},
          "output_type": "display_data"
        },
        {
          "data": {
            "text/html": [
              "<pre style=\"white-space:pre;overflow-x:auto;line-height:normal;font-family:Menlo,'DejaVu Sans Mono',consolas,'Courier New',monospace\">┏━━━━━━━━━━━━━━━━━━━━━━━━━━━━━━━━━┳━━━━━━━━━━━━━━━━━━━━━━━━┳━━━━━━━━━━━━━━━┓\n",
              "┃<span style=\"font-weight: bold\"> Layer (type)                    </span>┃<span style=\"font-weight: bold\"> Output Shape           </span>┃<span style=\"font-weight: bold\">       Param # </span>┃\n",
              "┡━━━━━━━━━━━━━━━━━━━━━━━━━━━━━━━━━╇━━━━━━━━━━━━━━━━━━━━━━━━╇━━━━━━━━━━━━━━━┩\n",
              "│ embedding (<span style=\"color: #0087ff; text-decoration-color: #0087ff\">Embedding</span>)           │ (<span style=\"color: #00d7ff; text-decoration-color: #00d7ff\">None</span>, <span style=\"color: #00af00; text-decoration-color: #00af00\">500</span>, <span style=\"color: #00af00; text-decoration-color: #00af00\">128</span>)       │     <span style=\"color: #00af00; text-decoration-color: #00af00\">1,280,000</span> │\n",
              "├─────────────────────────────────┼────────────────────────┼───────────────┤\n",
              "│ simple_rnn (<span style=\"color: #0087ff; text-decoration-color: #0087ff\">SimpleRNN</span>)          │ (<span style=\"color: #00d7ff; text-decoration-color: #00d7ff\">None</span>, <span style=\"color: #00af00; text-decoration-color: #00af00\">128</span>)            │        <span style=\"color: #00af00; text-decoration-color: #00af00\">32,896</span> │\n",
              "├─────────────────────────────────┼────────────────────────┼───────────────┤\n",
              "│ dense (<span style=\"color: #0087ff; text-decoration-color: #0087ff\">Dense</span>)                   │ (<span style=\"color: #00d7ff; text-decoration-color: #00d7ff\">None</span>, <span style=\"color: #00af00; text-decoration-color: #00af00\">1</span>)              │           <span style=\"color: #00af00; text-decoration-color: #00af00\">129</span> │\n",
              "└─────────────────────────────────┴────────────────────────┴───────────────┘\n",
              "</pre>\n"
            ],
            "text/plain": [
              "┏━━━━━━━━━━━━━━━━━━━━━━━━━━━━━━━━━┳━━━━━━━━━━━━━━━━━━━━━━━━┳━━━━━━━━━━━━━━━┓\n",
              "┃\u001b[1m \u001b[0m\u001b[1mLayer (type)                   \u001b[0m\u001b[1m \u001b[0m┃\u001b[1m \u001b[0m\u001b[1mOutput Shape          \u001b[0m\u001b[1m \u001b[0m┃\u001b[1m \u001b[0m\u001b[1m      Param #\u001b[0m\u001b[1m \u001b[0m┃\n",
              "┡━━━━━━━━━━━━━━━━━━━━━━━━━━━━━━━━━╇━━━━━━━━━━━━━━━━━━━━━━━━╇━━━━━━━━━━━━━━━┩\n",
              "│ embedding (\u001b[38;5;33mEmbedding\u001b[0m)           │ (\u001b[38;5;45mNone\u001b[0m, \u001b[38;5;34m500\u001b[0m, \u001b[38;5;34m128\u001b[0m)       │     \u001b[38;5;34m1,280,000\u001b[0m │\n",
              "├─────────────────────────────────┼────────────────────────┼───────────────┤\n",
              "│ simple_rnn (\u001b[38;5;33mSimpleRNN\u001b[0m)          │ (\u001b[38;5;45mNone\u001b[0m, \u001b[38;5;34m128\u001b[0m)            │        \u001b[38;5;34m32,896\u001b[0m │\n",
              "├─────────────────────────────────┼────────────────────────┼───────────────┤\n",
              "│ dense (\u001b[38;5;33mDense\u001b[0m)                   │ (\u001b[38;5;45mNone\u001b[0m, \u001b[38;5;34m1\u001b[0m)              │           \u001b[38;5;34m129\u001b[0m │\n",
              "└─────────────────────────────────┴────────────────────────┴───────────────┘\n"
            ]
          },
          "metadata": {},
          "output_type": "display_data"
        },
        {
          "data": {
            "text/html": [
              "<pre style=\"white-space:pre;overflow-x:auto;line-height:normal;font-family:Menlo,'DejaVu Sans Mono',consolas,'Courier New',monospace\"><span style=\"font-weight: bold\"> Total params: </span><span style=\"color: #00af00; text-decoration-color: #00af00\">3,939,077</span> (15.03 MB)\n",
              "</pre>\n"
            ],
            "text/plain": [
              "\u001b[1m Total params: \u001b[0m\u001b[38;5;34m3,939,077\u001b[0m (15.03 MB)\n"
            ]
          },
          "metadata": {},
          "output_type": "display_data"
        },
        {
          "data": {
            "text/html": [
              "<pre style=\"white-space:pre;overflow-x:auto;line-height:normal;font-family:Menlo,'DejaVu Sans Mono',consolas,'Courier New',monospace\"><span style=\"font-weight: bold\"> Trainable params: </span><span style=\"color: #00af00; text-decoration-color: #00af00\">1,313,025</span> (5.01 MB)\n",
              "</pre>\n"
            ],
            "text/plain": [
              "\u001b[1m Trainable params: \u001b[0m\u001b[38;5;34m1,313,025\u001b[0m (5.01 MB)\n"
            ]
          },
          "metadata": {},
          "output_type": "display_data"
        },
        {
          "data": {
            "text/html": [
              "<pre style=\"white-space:pre;overflow-x:auto;line-height:normal;font-family:Menlo,'DejaVu Sans Mono',consolas,'Courier New',monospace\"><span style=\"font-weight: bold\"> Non-trainable params: </span><span style=\"color: #00af00; text-decoration-color: #00af00\">0</span> (0.00 B)\n",
              "</pre>\n"
            ],
            "text/plain": [
              "\u001b[1m Non-trainable params: \u001b[0m\u001b[38;5;34m0\u001b[0m (0.00 B)\n"
            ]
          },
          "metadata": {},
          "output_type": "display_data"
        },
        {
          "data": {
            "text/html": [
              "<pre style=\"white-space:pre;overflow-x:auto;line-height:normal;font-family:Menlo,'DejaVu Sans Mono',consolas,'Courier New',monospace\"><span style=\"font-weight: bold\"> Optimizer params: </span><span style=\"color: #00af00; text-decoration-color: #00af00\">2,626,052</span> (10.02 MB)\n",
              "</pre>\n"
            ],
            "text/plain": [
              "\u001b[1m Optimizer params: \u001b[0m\u001b[38;5;34m2,626,052\u001b[0m (10.02 MB)\n"
            ]
          },
          "metadata": {},
          "output_type": "display_data"
        }
      ],
      "source": [
        "## Load the pretrained model with relu activation\n",
        "model = load_model('simple_rnn_imdb.keras')\n",
        "model.summary()"
      ]
    },
    {
      "cell_type": "code",
      "execution_count": 4,
      "metadata": {
        "colab": {
          "base_uri": "https://localhost:8080/"
        },
        "id": "RRYFYVhLsopa",
        "outputId": "4f12a361-57f2-4492-dcce-e413140058f2"
      },
      "outputs": [
        {
          "data": {
            "text/plain": [
              "[array([[-9.77717876e-01,  1.17648232e+00,  9.01281059e-01, ...,\n",
              "         -2.42848292e-01,  2.80672342e-01,  5.92852831e-02],\n",
              "        [ 7.11870939e-02, -1.49184940e-02,  6.90848241e-03, ...,\n",
              "         -8.01860704e-04,  5.06626479e-02, -1.00785904e-01],\n",
              "        [-6.30225539e-02,  1.41511261e-01,  1.46552585e-02, ...,\n",
              "         -1.33146822e-01,  1.62825570e-01, -1.48271203e-01],\n",
              "        ...,\n",
              "        [-3.35728303e-02,  1.39712533e-02, -6.94656745e-02, ...,\n",
              "         -2.97026020e-02, -1.05339795e-01,  4.70892638e-02],\n",
              "        [ 1.01289777e-02, -9.60675254e-03, -3.34377820e-03, ...,\n",
              "          5.22839203e-02,  6.04120679e-02,  4.35690060e-02],\n",
              "        [ 3.11983712e-02,  3.97392251e-02, -2.80557871e-02, ...,\n",
              "          1.30256740e-02, -5.74038923e-02,  1.00472771e-01]], dtype=float32),\n",
              " array([[-0.04648774, -0.1239211 , -0.13440032, ...,  0.00940595,\n",
              "         -0.11500262,  0.17328137],\n",
              "        [ 0.19564056, -0.11627488,  0.05472773, ...,  0.03894299,\n",
              "         -0.00672858, -0.04037397],\n",
              "        [-0.11973368,  0.09048366,  0.02237517, ...,  0.00214778,\n",
              "         -0.22449839, -0.05897602],\n",
              "        ...,\n",
              "        [-0.02578356,  0.08376818,  0.02609808, ..., -0.12871791,\n",
              "          0.00368696,  0.15199804],\n",
              "        [-0.15668102,  0.07972193, -0.0055565 , ...,  0.01442031,\n",
              "         -0.08504694, -0.19173077],\n",
              "        [-0.02356444, -0.09469282, -0.098456  , ..., -0.08478932,\n",
              "         -0.12693372, -0.03021328]], dtype=float32),\n",
              " array([[-0.10140289,  0.13460036,  0.06393097, ..., -0.0935863 ,\n",
              "          0.13425599,  0.20210654],\n",
              "        [ 0.14514326, -0.16230619,  0.00593832, ...,  0.09358701,\n",
              "          0.01737608,  0.17830937],\n",
              "        [ 0.03247532, -0.1452346 ,  0.04500649, ...,  0.09173719,\n",
              "         -0.01328231, -0.06077552],\n",
              "        ...,\n",
              "        [ 0.07589451, -0.11767024,  0.01767888, ..., -0.06597254,\n",
              "         -0.02508024,  0.08335184],\n",
              "        [ 0.25920314, -0.04598426,  0.08712131, ..., -0.07763346,\n",
              "         -0.16807702,  0.04160476],\n",
              "        [ 0.01415448, -0.18882856,  0.11696887, ..., -0.0513683 ,\n",
              "         -0.00225698, -0.12878412]], dtype=float32),\n",
              " array([-0.04142599,  0.0204896 ,  0.01821545, -0.04433626, -0.02898751,\n",
              "         0.00220687, -0.02842063,  0.01564988, -0.03728712, -0.05123217,\n",
              "         0.0061299 ,  0.00368652, -0.05548196,  0.00321793, -0.00420261,\n",
              "         0.01969789,  0.01575958, -0.00326443, -0.05855908,  0.01094774,\n",
              "        -0.01853816, -0.03527356, -0.03324309,  0.00220586, -0.038459  ,\n",
              "         0.02547087, -0.00669346, -0.02118765, -0.04094578, -0.04650861,\n",
              "        -0.00369965, -0.00400591, -0.01319564, -0.04497849, -0.01593904,\n",
              "        -0.04861932,  0.04012244, -0.04034754, -0.04811391, -0.01594512,\n",
              "        -0.02439843,  0.05545718, -0.0515991 ,  0.00047336, -0.00874902,\n",
              "        -0.0006702 ,  0.00054692, -0.04042306,  0.03072615, -0.04287628,\n",
              "        -0.01042321, -0.03435001,  0.02347622, -0.044361  , -0.05248097,\n",
              "        -0.05004987, -0.04950183, -0.05795838,  0.04634098, -0.00546737,\n",
              "         0.0248975 ,  0.0232126 , -0.03084367, -0.0125611 , -0.02094045,\n",
              "         0.01819069, -0.03399588, -0.00064612, -0.03757067, -0.02312498,\n",
              "         0.03590495, -0.07206248,  0.00281818, -0.04904693, -0.01153025,\n",
              "         0.0278697 ,  0.02655103,  0.02946932, -0.03709104, -0.03402077,\n",
              "        -0.01643614, -0.03877178, -0.04482606, -0.04744561, -0.01929449,\n",
              "        -0.03833381,  0.00217297,  0.05481851,  0.02763715, -0.031584  ,\n",
              "         0.0410243 , -0.02108314, -0.00313346,  0.0374341 , -0.03790611,\n",
              "        -0.02515518,  0.06693378, -0.04261565,  0.00069656, -0.00712047,\n",
              "        -0.05137039,  0.00758808, -0.03888207, -0.03729283, -0.05021076,\n",
              "        -0.02334047, -0.04167045, -0.03551968, -0.01389202,  0.01939377,\n",
              "        -0.04583046, -0.00288695, -0.03859217, -0.00442245,  0.02514411,\n",
              "        -0.02975581, -0.01515671, -0.01779783,  0.02863411, -0.02051784,\n",
              "        -0.04783677,  0.02352812, -0.06232676, -0.03479272,  0.0212728 ,\n",
              "         0.02106505, -0.04562161,  0.00023852], dtype=float32),\n",
              " array([[ 2.53719147e-02],\n",
              "        [ 2.21532267e-02],\n",
              "        [ 5.34104183e-02],\n",
              "        [-3.47439200e-01],\n",
              "        [ 1.37483269e-01],\n",
              "        [ 6.19587302e-02],\n",
              "        [-1.71213537e-01],\n",
              "        [ 3.14546853e-01],\n",
              "        [-5.10761917e-01],\n",
              "        [-5.48008382e-01],\n",
              "        [-1.16953356e-02],\n",
              "        [ 3.76750708e-01],\n",
              "        [-6.55345976e-01],\n",
              "        [ 1.19591013e-01],\n",
              "        [-2.42138162e-01],\n",
              "        [-3.05644125e-01],\n",
              "        [-3.36054116e-02],\n",
              "        [ 2.07696110e-01],\n",
              "        [ 1.79837704e-01],\n",
              "        [-2.28447393e-01],\n",
              "        [-1.13634383e-02],\n",
              "        [-1.97279707e-01],\n",
              "        [ 1.21712707e-01],\n",
              "        [-1.23306535e-01],\n",
              "        [ 2.19071969e-01],\n",
              "        [-4.55130696e-01],\n",
              "        [-5.75614981e-02],\n",
              "        [ 1.25641301e-01],\n",
              "        [-1.75986607e-02],\n",
              "        [ 1.02067418e-01],\n",
              "        [ 3.53283323e-02],\n",
              "        [ 2.21777052e-01],\n",
              "        [ 1.74445629e-01],\n",
              "        [ 3.76588553e-02],\n",
              "        [-2.58148730e-01],\n",
              "        [-3.01860064e-01],\n",
              "        [-1.87894646e-02],\n",
              "        [ 6.29988266e-03],\n",
              "        [ 1.36298403e-01],\n",
              "        [ 3.01077157e-01],\n",
              "        [-2.08648816e-01],\n",
              "        [-2.66609341e-03],\n",
              "        [ 9.56860185e-02],\n",
              "        [ 1.29979119e-01],\n",
              "        [-1.44875124e-01],\n",
              "        [-1.75205424e-01],\n",
              "        [ 2.14109663e-02],\n",
              "        [-3.45315427e-01],\n",
              "        [ 6.48272336e-02],\n",
              "        [ 1.24916434e-01],\n",
              "        [ 1.40129283e-01],\n",
              "        [-2.39408985e-02],\n",
              "        [ 1.14202216e-01],\n",
              "        [ 1.63533643e-01],\n",
              "        [ 1.70341462e-01],\n",
              "        [-8.74316767e-02],\n",
              "        [-5.53189777e-02],\n",
              "        [-3.53840142e-01],\n",
              "        [-9.69459563e-02],\n",
              "        [ 9.83188972e-02],\n",
              "        [-1.18262261e-01],\n",
              "        [ 1.25463560e-01],\n",
              "        [ 1.03415333e-01],\n",
              "        [ 1.90266088e-01],\n",
              "        [-4.64541614e-02],\n",
              "        [-1.04969136e-01],\n",
              "        [-6.41241744e-02],\n",
              "        [-1.53347179e-01],\n",
              "        [-1.77190136e-02],\n",
              "        [ 9.37832892e-02],\n",
              "        [ 1.72097847e-01],\n",
              "        [ 9.08992663e-02],\n",
              "        [-7.03163564e-01],\n",
              "        [ 1.52295664e-01],\n",
              "        [-1.14788666e-01],\n",
              "        [ 2.17562858e-02],\n",
              "        [-1.46753147e-01],\n",
              "        [ 1.00605242e-01],\n",
              "        [ 4.80110903e-04],\n",
              "        [-2.20099732e-01],\n",
              "        [-1.62086591e-01],\n",
              "        [-7.50309601e-02],\n",
              "        [ 1.11154523e-02],\n",
              "        [ 1.59627795e-01],\n",
              "        [-7.09586591e-02],\n",
              "        [-7.34544843e-02],\n",
              "        [ 6.31564111e-02],\n",
              "        [-2.60854244e-01],\n",
              "        [ 2.12350208e-02],\n",
              "        [-1.90334678e-01],\n",
              "        [ 6.38582483e-02],\n",
              "        [ 1.17917582e-01],\n",
              "        [ 1.73373967e-01],\n",
              "        [ 1.34065285e-01],\n",
              "        [ 1.44234970e-01],\n",
              "        [ 8.49379152e-02],\n",
              "        [-9.85565335e-02],\n",
              "        [ 3.00614238e-01],\n",
              "        [ 2.69740105e-01],\n",
              "        [-1.94091409e-01],\n",
              "        [ 1.97533384e-01],\n",
              "        [-1.69961706e-01],\n",
              "        [ 8.08388814e-02],\n",
              "        [-1.73779979e-01],\n",
              "        [ 1.53671101e-01],\n",
              "        [ 6.50494099e-02],\n",
              "        [-8.41369256e-02],\n",
              "        [ 1.29021987e-01],\n",
              "        [ 1.61172867e-01],\n",
              "        [ 1.61387175e-01],\n",
              "        [-4.19437550e-02],\n",
              "        [-7.82290101e-01],\n",
              "        [-3.13889259e-03],\n",
              "        [-2.34099943e-02],\n",
              "        [-5.72449416e-02],\n",
              "        [ 8.72209296e-02],\n",
              "        [ 1.85542271e-01],\n",
              "        [ 1.23127379e-01],\n",
              "        [-1.67282119e-01],\n",
              "        [ 6.16425872e-02],\n",
              "        [-2.48961642e-01],\n",
              "        [ 3.43377180e-02],\n",
              "        [-1.63637493e-02],\n",
              "        [ 1.85780078e-01],\n",
              "        [-1.03115678e-01],\n",
              "        [ 5.93968630e-02],\n",
              "        [-1.19267121e-01],\n",
              "        [ 1.01864442e-01]], dtype=float32),\n",
              " array([0.08537626], dtype=float32)]"
            ]
          },
          "execution_count": 4,
          "metadata": {},
          "output_type": "execute_result"
        }
      ],
      "source": [
        "model.get_weights()"
      ]
    },
    {
      "cell_type": "code",
      "execution_count": 5,
      "metadata": {
        "id": "J9RgocWBs6dt"
      },
      "outputs": [],
      "source": [
        "# Step 2 : Helper functions\n",
        "## Function to decode reviews\n",
        "\n",
        "def decode_review(encoded_review):\n",
        "  return ' '.join([reverse_word_index.get(i - 3, '?') for i in encoded_review])\n",
        "\n",
        "\n",
        "## Function to preprocess user input\n",
        "def preprocess_text(text):\n",
        "  words = text.lower().split()\n",
        "  encoded_review = [word_index.get(word, 2) + 3 for word in words]\n",
        "  padded_review = sequence.pad_sequences([encoded_review], maxlen=500)\n",
        "  return padded_review"
      ]
    },
    {
      "cell_type": "code",
      "execution_count": 6,
      "metadata": {
        "id": "hEw15VkvwOvg"
      },
      "outputs": [],
      "source": [
        "### Prediction function\n",
        "\n",
        "def predict_sentiment(review):\n",
        "  preprocessed_input = preprocess_text(review)\n",
        "\n",
        "  prediction = model.predict(preprocessed_input)\n",
        "\n",
        "  sentiment = 'Positive' if prediction[0][0] > 0.5 else 'Negative'\n",
        "\n",
        "  return sentiment, prediction[0][0]"
      ]
    },
    {
      "cell_type": "code",
      "execution_count": 7,
      "metadata": {
        "colab": {
          "base_uri": "https://localhost:8080/"
        },
        "id": "sGEY9sd8xJ9_",
        "outputId": "fb589fe3-ecb0-4b29-dbfe-0ccb72b191f9"
      },
      "outputs": [
        {
          "name": "stdout",
          "output_type": "stream",
          "text": [
            "\u001b[1m1/1\u001b[0m \u001b[32m━━━━━━━━━━━━━━━━━━━━\u001b[0m\u001b[37m\u001b[0m \u001b[1m0s\u001b[0m 83ms/step\n",
            "Review: The movie was fantastic! The acting was great and the plot was thrilling.\n",
            "Sentiment: Positive\n",
            "Prediction Score: 0.9856533408164978\n"
          ]
        }
      ],
      "source": [
        "# Step 4: User input prediction\n",
        "# Example review for prediction\n",
        "\n",
        "example_review = \"The movie was fantastic! The acting was great and the plot was thrilling.\"\n",
        "\n",
        "sentiment, score = predict_sentiment(example_review)\n",
        "\n",
        "print(f'Review: {example_review}')\n",
        "print(f'Sentiment: {sentiment}')\n",
        "print(f'Prediction Score: {score}')"
      ]
    },
    {
      "cell_type": "code",
      "execution_count": null,
      "metadata": {
        "id": "WI0UYNcYx5ru"
      },
      "outputs": [],
      "source": []
    }
  ],
  "metadata": {
    "colab": {
      "provenance": []
    },
    "kernelspec": {
      "display_name": "venv",
      "language": "python",
      "name": "python3"
    },
    "language_info": {
      "codemirror_mode": {
        "name": "ipython",
        "version": 3
      },
      "file_extension": ".py",
      "mimetype": "text/x-python",
      "name": "python",
      "nbconvert_exporter": "python",
      "pygments_lexer": "ipython3",
      "version": "3.12.0"
    }
  },
  "nbformat": 4,
  "nbformat_minor": 0
}
